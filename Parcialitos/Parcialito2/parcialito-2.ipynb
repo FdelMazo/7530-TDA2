{
 "cells": [
  {
   "cell_type": "markdown",
   "id": "94274728",
   "metadata": {},
   "source": [
    "### Parcialito 2 - Federico del Mazo - 100029"
   ]
  },
  {
   "cell_type": "code",
   "execution_count": null,
   "id": "0d491884",
   "metadata": {},
   "outputs": [],
   "source": [
    "import networkx as nx\n",
    "import pandas as pd\n",
    "\n",
    "df = pd.read_csv('../Shared/World.csv', header=0, names=[\"source\", \"target\", \"_weight\"])\n",
    "Graphtype = nx.Graph()\n",
    "G = nx.from_pandas_edgelist(df, create_using=Graphtype)"
   ]
  },
  {
   "cell_type": "markdown",
   "id": "1e4919ec",
   "metadata": {},
   "source": [
    "#### Ejercicio 1\n",
    "\n",
    "- Obtener una visualización de las comunidades presentes en dicha red (indicando el algoritmo utilizado).\n",
    "- Considerando lo que respondiste en el parcialito 1 (ejercicio 2):\n",
    "  - Si mencionaste que había homofilia, ¿corresponde por el mismo tipo que mencionaste anteriormente? ¿por\n",
    "qué?\n",
    "  - ~~Si mencionaste que no había homofilia (o bien no realizaste el ejercicio), ¿qué tipo de homofilia se puede ver presente?~~\n",
    "- Obtener los nodos correspondientes a una de las subredes (con al menos 20% de los nodos), y realizar una\n",
    "visualización de las sub-comunidades presentes."
   ]
  },
  {
   "cell_type": "code",
   "execution_count": null,
   "id": "a4c41c44",
   "metadata": {},
   "outputs": [],
   "source": [
    "from networkx.algorithms import community\n",
    "\n",
    "louvain = community.louvain_communities(G)\n",
    "louvain"
   ]
  },
  {
   "cell_type": "code",
   "execution_count": null,
   "id": "36f6bc8e",
   "metadata": {},
   "outputs": [],
   "source": [
    "import matplotlib.pyplot as plt\n",
    "import matplotlib.colors as mcolors\n",
    "import random\n",
    "\n",
    "plt.figure(figsize=(20,10))\n",
    "\n",
    "draw_nodes = {}\n",
    "colors = random.sample(list(mcolors.TABLEAU_COLORS), len(louvain))\n",
    "for louvaincommunity, color in zip(louvain, colors):\n",
    "    draw_nodes.update({n: color for n in louvaincommunity})\n",
    "    \n",
    "plt.title(\"Louvain Communities\")\n",
    "nx.draw_networkx(G, \n",
    "                 nodelist=draw_nodes.keys(), \n",
    "                 node_color=list(draw_nodes.values()), \n",
    "                 edgelist=[], \n",
    "                 pos=nx.kamada_kawai_layout(G),\n",
    "                 font_size=10)"
   ]
  },
  {
   "cell_type": "code",
   "execution_count": null,
   "id": "e24db46e",
   "metadata": {},
   "outputs": [],
   "source": [
    "# Quiero comparar mis comunidades contra la homofilia por continentes que encontré en el Parcialito1.\n",
    "# Hago casi clavado copy-paste de la celda que mapea pais a continente en Parcialito1/parcialito-1.ipynb\n",
    "\n",
    "df2 = pd.read_csv('../Shared/country_profile_variables.csv', header=0)\n",
    "region_to_continent = {'SouthernAsia': 'Asia', 'SouthernEurope': 'Europe', 'NorthernAfrica': 'Africa', 'Polynesia': 'Oceania', 'MiddleAfrica': 'Africa', 'Caribbean': 'CentralAmerica', 'SouthAmerica': 'SouthAmerica', 'WesternAsia': 'Asia', 'Oceania': 'Oceania', 'WesternEurope': 'Europe', 'EasternEurope': 'Europe', 'CentralAmerica': 'CentralAmerica', 'WesternAfrica': 'Africa', 'NorthernAmerica': 'NorthernAmerica', 'SouthernAfrica': 'Africa', 'South-easternAsia': 'Asia', 'EasternAfrica': 'Africa', 'NorthernEurope': 'Europe', 'EasternAsia': 'Asia', 'Melanesia': 'Oceania', 'Micronesia': 'Oceania', 'CentralAsia': 'Asia'} \n",
    "df2['Continent'] = df2['Region'].map(region_to_continent)\n",
    "aliases = {\"United States of America\": \"United States\", \"Viet Nam\": \"Vietnam\", \"Bolivia (Plurinational State of)\":\"Bolivia\", \"China, Hong Kong SAR\": \"Hong Kong\", \"Micronesia (Federated States of)\": \"Micronesia\", \"Czechia\": \"Czech Republic\", \"Democratic People's Republic of Korea\": \"South Korea\", \"Russian Federation\": \"Russia\", \"The former Yugoslav Republic of Macedonia\": \"Macedonia\", \"Iran (Islamic Republic of)\": \"Iran\", \"Venezuela (Bolivarian Republic of)\": \"Venezuela\", \"Brunei Darussalam\": \"Brunei\", \"Falkland Islands (Malvinas)\": \"Falkland Islands\", \"Syrian Arab Republic\": \"Syria\", \"Wallis and Futuna Islands\": \"Wallis and Futuna\", \"Republic of Korea\": \"North Korea\", \"United Republic of Tanzania\": \"Tanzania\"}\n",
    "df2 = df2[['country', 'Continent']]\n",
    "df2 = df2.set_index('country').rename(index = aliases)\n",
    "attributes = df2.to_dict('index')\n",
    "attributes\n",
    "nx.set_node_attributes(G, attributes)\n",
    "\n",
    "manual_attributes = {'Taiwan': 'Asia', 'Netherlands Antilles': 'Europe', \"Cote d'Ivoire\": 'Africa', 'Congo (Brazzaville)': 'Africa', 'Congo (Kinshasa)': 'Africa', 'Cape Verde': 'Africa', 'Moldova': 'Europe', 'Guernsey': 'Europe', 'Jersey': 'Europe', 'Reunion': 'Europe', 'Virgin Islands': 'CentralAmerica', 'Norfolk Island': 'Oceania', 'Burma': 'Asia', 'Macau': 'Asia', 'Laos': 'Asia', 'East Timor': 'Asia', 'Christmas Island': 'Asia', 'Cocos (Keeling) Islands': 'Asia'}\n",
    "nx.set_node_attributes(G, {k: {'Continent': v} for k,v in manual_attributes.items()})"
   ]
  },
  {
   "cell_type": "code",
   "execution_count": null,
   "id": "5ee77bc8",
   "metadata": {},
   "outputs": [],
   "source": [
    "# De cada comunidad de Louvain que tengo... \n",
    "#   cuál es mi continente mayoritario? cuantos paises no estan dentro de ese continente?\n",
    "\n",
    "from collections import Counter\n",
    "\n",
    "continent_count = Counter(nx.get_node_attributes(G, 'Continent'))\n",
    "for i, louvaincommunity in enumerate(louvain):\n",
    "    community_count = {k: v for k,v in continent_count.items() if k in louvaincommunity}\n",
    "    continents = list(community_count.values())\n",
    "    majority = max(continents, key=continents.count)\n",
    "    majority_percent = (len([v for k, v in community_count.items() if v == majority]) / len(louvaincommunity)) * 100\n",
    "    print(f\"La comunidad #{i} tiene {len(louvaincommunity)} paises y consiste de un {majority_percent:.2f}% de paises de {majority}.\")"
   ]
  },
  {
   "cell_type": "markdown",
   "id": "57861541",
   "metadata": {},
   "source": [
    "**_Qué podemos decir de todo esto?_**\n",
    "\n",
    "Claramente los continentes de Europa y Africa se convirtieron en su propia comunidad. Esto muestra que sus paises son bastante similares y cercanos entre sí. De las otras dos comunidades formadas no se puede decir lo mismo con tanta certeza, pero aún así el tener más de la mitad de los paises del mismo continente en ambas comunidades demuestra que aunque sea *algo* de homofilia había.\n",
    "\n",
    "En conclusión, si, yo creo que las comunidades formadas corresponden al tipo de homofilia por continente, planteada en el parcialito anterior."
   ]
  },
  {
   "cell_type": "code",
   "execution_count": null,
   "id": "000181c5",
   "metadata": {
    "scrolled": false
   },
   "outputs": [],
   "source": [
    "top_community = nx.subgraph(G, max(louvain, key=len))\n",
    "top_community_louvain = community.louvain_communities(top_community)\n",
    "plt.figure(figsize=(20,10))\n",
    "\n",
    "draw_nodes = {}\n",
    "colors = random.sample(list(mcolors.TABLEAU_COLORS), len(top_community_louvain))\n",
    "for louvaincommunity, color in zip(top_community_louvain, colors):\n",
    "    draw_nodes.update({n: color for n in louvaincommunity})\n",
    "    \n",
    "plt.title(\"Louvain Communities (of the Top Louvain Community)\")\n",
    "nx.draw_networkx(top_community, \n",
    "                 nodelist=draw_nodes.keys(), \n",
    "                 node_color=list(draw_nodes.values()), \n",
    "                 edgelist=[], \n",
    "                 pos=nx.kamada_kawai_layout(top_community),\n",
    "                 font_size=10)"
   ]
  },
  {
   "cell_type": "markdown",
   "id": "ef10ea79",
   "metadata": {},
   "source": [
    "#### Ejercicio 2\n",
    "\n",
    "- Calcular los motifs de hasta 5 nodos de la subred definida en el punto 1.c.\n",
    "- Calcular el promedio y desvío estandar de los motifs de una red de baseline. Calcular el significant profile de la red, y hacer un gráfico.\n",
    "- Intentar dar con una explicación del resultado obtenido en el punto anterior"
   ]
  },
  {
   "cell_type": "markdown",
   "id": "1a478017",
   "metadata": {},
   "source": [
    "#### Ejercicio 3\n",
    "\n",
    "Detectar los roles en dicha red utilizando el algoritmo RolX, explicando el resultado obtenido."
   ]
  },
  {
   "cell_type": "code",
   "execution_count": null,
   "id": "62b6aff0",
   "metadata": {},
   "outputs": [],
   "source": [
    "# Ojo, graphrole tiene de dependencia a networkx 2.5, pero los algoritmos copados de comunidades salieron en nx 2.7\n",
    "# Hay que lograr tener en paralelo nx > 2.7 y graphrole:\n",
    "# - Asegurarse de estar en py3.9, en vez de py3.10\n",
    "# - Clonar el repo de graphrole\n",
    "# - Modificar el requirements.txt del repo clonado para ponerle nx 2.8\n",
    "# - Hacer `pip install ./GraphRole`\n",
    "\n",
    "from graphrole import RecursiveFeatureExtractor, RoleExtractor\n",
    "\n",
    "feature_extractor = RecursiveFeatureExtractor(G)\n",
    "features = feature_extractor.extract_features()\n",
    "role_extractor = RoleExtractor(n_roles=None)\n",
    "role_extractor.extract_role_factors(features)"
   ]
  },
  {
   "cell_type": "code",
   "execution_count": null,
   "id": "ec314981",
   "metadata": {},
   "outputs": [],
   "source": [
    "roles = {}\n",
    "\n",
    "for country, role in role_extractor.roles.items():\n",
    "    roles.setdefault(role, set()).add(country)\n",
    "\n",
    "roles"
   ]
  },
  {
   "cell_type": "code",
   "execution_count": null,
   "id": "3cbced87",
   "metadata": {},
   "outputs": [],
   "source": [
    "features.sample(3)"
   ]
  },
  {
   "cell_type": "code",
   "execution_count": null,
   "id": "855a2d1b",
   "metadata": {},
   "outputs": [],
   "source": [
    "plt.figure(figsize=(20,10))\n",
    "\n",
    "draw_nodes = {}\n",
    "colors = random.sample(list(mcolors.TABLEAU_COLORS), len(roles))\n",
    "for role, color in zip(roles, colors):\n",
    "    draw_nodes.update({n: color for n in roles[role]})\n",
    "    \n",
    "plt.title(\"Graph Roles\")\n",
    "nx.draw_networkx(G, \n",
    "                 nodelist=draw_nodes.keys(), \n",
    "                 node_color=list(draw_nodes.values()), \n",
    "                 edgelist=[], \n",
    "                 with_labels=False)"
   ]
  },
  {
   "cell_type": "markdown",
   "id": "f13294df",
   "metadata": {},
   "source": [
    "Como podemos ver, `graphrole` (aplicando `RolX`) nos agrupó los nodos de nuestro grafo en distintos roles, basandose en features locales y regionales. Es decir, nos encontró nodos con posiciones similares, pero no necesariamente cercanos entre sí.\n",
    "\n",
    "Se puede ver que uno de los roles encontrados claramente se refiere a los periféricos de nuestra red, mientras que los otros se refieren a nodos más centrales, como si fuese una cebolla 🧅."
   ]
  }
 ],
 "metadata": {
  "kernelspec": {
   "display_name": "Python 3 (ipykernel)",
   "language": "python",
   "name": "python3"
  },
  "language_info": {
   "codemirror_mode": {
    "name": "ipython",
    "version": 3
   },
   "file_extension": ".py",
   "mimetype": "text/x-python",
   "name": "python",
   "nbconvert_exporter": "python",
   "pygments_lexer": "ipython3",
   "version": "3.9.12"
  }
 },
 "nbformat": 4,
 "nbformat_minor": 5
}
