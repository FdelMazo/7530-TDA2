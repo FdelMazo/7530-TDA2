{
 "cells": [
  {
   "cell_type": "markdown",
   "id": "94274728",
   "metadata": {},
   "source": [
    "### Parcialito 2 - Federico del Mazo - 100029"
   ]
  },
  {
   "cell_type": "code",
   "execution_count": 9,
   "id": "0d491884",
   "metadata": {},
   "outputs": [],
   "source": [
    "import networkx as nx\n",
    "import pandas as pd\n",
    "\n",
    "df = pd.read_csv('../Shared/World.csv', header=0, names=[\"source\", \"target\", \"_weight\"])\n",
    "Graphtype = nx.Graph()\n",
    "G = nx.from_pandas_edgelist(df, create_using=Graphtype)"
   ]
  },
  {
   "cell_type": "markdown",
   "id": "1e4919ec",
   "metadata": {},
   "source": [
    "#### Ejercicio 1\n",
    "\n",
    "- Obtener una visualización de las comunidades presentes en dicha red (indicando el algoritmo utilizado).\n",
    "- Considerando lo que respondiste en el parcialito 1 (ejercicio 2):\n",
    "  - Si mencionaste que había homofilia, ¿corresponde por el mismo tipo que mencionaste anteriormente? ¿por\n",
    "qué?\n",
    "  - ~~Si mencionaste que no había homofilia (o bien no realizaste el ejercicio), ¿qué tipo de homofilia se puede ver presente?~~\n",
    "- Obtener los nodos correspondientes a una de las subredes (con al menos 20% de los nodos), y realizar una\n",
    "visualización de las sub-comunidades presentes."
   ]
  },
  {
   "cell_type": "markdown",
   "id": "ef10ea79",
   "metadata": {},
   "source": [
    "#### Ejercicio 2\n",
    "\n",
    "- Calcular los motifs de hasta 5 nodos de la subred definida en el punto 1.c.\n",
    "- Calcular el promedio y desvío estandar de los motifs de una red de baseline. Calcular el significant profile de la red, y hacer un gráfico.\n",
    "- Intentar dar con una explicación del resultado obtenido en el punto anterior"
   ]
  },
  {
   "cell_type": "markdown",
   "id": "1a478017",
   "metadata": {},
   "source": [
    "#### Ejercicio 3\n",
    "\n",
    "Detectar los roles en dicha red utilizando el algoritmo RolX, explicando el resultado obtenido."
   ]
  }
 ],
 "metadata": {
  "kernelspec": {
   "display_name": "Python 3 (ipykernel)",
   "language": "python",
   "name": "python3"
  },
  "language_info": {
   "codemirror_mode": {
    "name": "ipython",
    "version": 3
   },
   "file_extension": ".py",
   "mimetype": "text/x-python",
   "name": "python",
   "nbconvert_exporter": "python",
   "pygments_lexer": "ipython3",
   "version": "3.10.4"
  }
 },
 "nbformat": 4,
 "nbformat_minor": 5
}
